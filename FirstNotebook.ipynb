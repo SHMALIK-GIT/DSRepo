{
 "cells": [
  {
   "cell_type": "markdown",
   "id": "d0631eea-084c-488d-ba35-c755cb4e4d90",
   "metadata": {},
   "source": [
    "# Creating a test notbook"
   ]
  },
  {
   "cell_type": "markdown",
   "id": "1d1b17ae-04a2-4044-987c-93af6d8abe48",
   "metadata": {},
   "source": [
    "# Creating a test notbook"
   ]
  },
  {
   "cell_type": "markdown",
   "id": "16f98e85-c25a-4769-8591-306d1ba422ec",
   "metadata": {},
   "source": [
    "# Creating the indor line of the code"
   ]
  },
  {
   "cell_type": "markdown",
   "id": "37786714-da05-4d1b-bacb-5b30103aceb5",
   "metadata": {},
   "source": [
    "# Creating the indor line of the code"
   ]
  },
  {
   "cell_type": "markdown",
   "id": "21e1705e-3bfc-4ab2-9b50-a264cc35b8e0",
   "metadata": {},
   "source": [
    "## Below are the sample languages\n",
    "1. Python\n",
    "2. SQL\n",
    "3. Ruby\n",
    "4. R"
   ]
  },
  {
   "cell_type": "markdown",
   "id": "ab1af83d-f746-4e4f-95c7-b29ecb0ee1e2",
   "metadata": {},
   "source": [
    "## Below are the sample languages\n",
    "1. Python\n",
    "2. SQL\n",
    "3. Ruby\n",
    "4. R"
   ]
  },
  {
   "cell_type": "markdown",
   "id": "db9bb916-e481-42f3-9f98-da5c26e67232",
   "metadata": {},
   "source": [
    "## Data science library\n",
    "1. NumPy\n",
    "2. Pandas\n",
    "3. Pandas"
   ]
  },
  {
   "cell_type": "markdown",
   "id": "ec799b4e-7d96-4cb0-be9a-ab57bb532a34",
   "metadata": {},
   "source": [
    "## Data science library\n",
    "1. NumPy\n",
    "2. Pandas\n",
    "3. Pandas"
   ]
  },
  {
   "cell_type": "markdown",
   "id": "abb34b85-d864-42c4-9f05-07f0a6508af6",
   "metadata": {},
   "source": [
    "### Table of data science tools\n",
    "| Tool | Function | \n",
    "|:--------:|:--------:|\n",
    "|  RStudio   | coding |\n",
    "|  Anaconda   | IDE |\n",
    "|  Jupyter Notebook|  Notes |"
   ]
  },
  {
   "cell_type": "markdown",
   "id": "f4f6c8e2-c661-439f-9a16-59bcef6a26be",
   "metadata": {},
   "source": [
    "### Table of data science tools\n",
    "| Tool | Function | \n",
    "|:--------:|:--------:|\n",
    "|  RStudio   | coding |\n",
    "|  Anaconda   | IDE |\n",
    "|  Jupyter Notebook|  Notes |"
   ]
  },
  {
   "cell_type": "markdown",
   "id": "bcf1c9cd-4b85-4ca5-8521-52949522862b",
   "metadata": {},
   "source": [
    "## Arithmatic operations\n",
    "1.a+b\n",
    "2.a*b\n",
    "3.a/b\n",
    "4.a-b"
   ]
  },
  {
   "cell_type": "markdown",
   "id": "4e75b48a-8ef8-4d63-beea-7714587a6109",
   "metadata": {},
   "source": [
    "## Arithmatic operations\n",
    "1.a+b\n",
    "2.a*b\n",
    "3.a/b\n",
    "4.a-b"
   ]
  },
  {
   "cell_type": "code",
   "execution_count": 3,
   "id": "1191edfc-02a6-4a27-8f7c-cca1e840bbbb",
   "metadata": {},
   "outputs": [
    {
     "data": {
      "text/plain": [
       "10"
      ]
     },
     "execution_count": 3,
     "metadata": {},
     "output_type": "execute_result"
    }
   ],
   "source": [
    "\n",
    "2*5"
   ]
  },
  {
   "cell_type": "code",
   "execution_count": 5,
   "id": "88f13ac1-69ae-44b9-b6dc-4d1dbfdde45d",
   "metadata": {},
   "outputs": [
    {
     "data": {
      "text/plain": [
       "7"
      ]
     },
     "execution_count": 5,
     "metadata": {},
     "output_type": "execute_result"
    }
   ],
   "source": [
    "2+5"
   ]
  },
  {
   "cell_type": "code",
   "execution_count": 7,
   "id": "19509062-afff-4c3b-8fbb-c862ff557208",
   "metadata": {},
   "outputs": [
    {
     "data": {
      "text/plain": [
       "2.0"
      ]
     },
     "execution_count": 7,
     "metadata": {},
     "output_type": "execute_result"
    }
   ],
   "source": [
    "120/60"
   ]
  },
  {
   "cell_type": "markdown",
   "id": "4dcf1205-ba3d-4ace-b0ed-c112db5492fb",
   "metadata": {},
   "source": [
    "## Undordered List\n",
    "- item 1\n",
    "- item 2\n",
    "- item 3"
   ]
  },
  {
   "cell_type": "code",
   "execution_count": null,
   "id": "af9afcf9-f150-4b27-9523-9442fc4c3830",
   "metadata": {},
   "outputs": [],
   "source": []
  }
 ],
 "metadata": {
  "kernelspec": {
   "display_name": "Python [conda env:base] *",
   "language": "python",
   "name": "conda-base-py"
  },
  "language_info": {
   "codemirror_mode": {
    "name": "ipython",
    "version": 3
   },
   "file_extension": ".py",
   "mimetype": "text/x-python",
   "name": "python",
   "nbconvert_exporter": "python",
   "pygments_lexer": "ipython3",
   "version": "3.12.7"
  }
 },
 "nbformat": 4,
 "nbformat_minor": 5
}
